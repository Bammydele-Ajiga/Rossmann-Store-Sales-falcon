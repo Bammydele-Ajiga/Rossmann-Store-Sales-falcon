{
 "cells": [
  {
   "cell_type": "code",
   "execution_count": 2,
   "metadata": {
    "_uuid": "1f3d90020c6c2caa5ad5b5411d04866dbbe9bca2",
    "execution": {
     "iopub.execute_input": "2022-08-08T12:03:15.655916Z",
     "iopub.status.busy": "2022-08-08T12:03:15.655596Z",
     "iopub.status.idle": "2022-08-08T12:03:15.667431Z",
     "shell.execute_reply": "2022-08-08T12:03:15.666449Z",
     "shell.execute_reply.started": "2022-08-08T12:03:15.655864Z"
    }
   },
   "outputs": [],
   "source": [
    "%matplotlib inline"
   ]
  },
  {
   "cell_type": "code",
   "execution_count": 1,
   "metadata": {
    "_uuid": "eafc23930bcd402980c267594f8d409a604a8525",
    "execution": {
     "iopub.execute_input": "2022-08-08T12:03:20.212657Z",
     "iopub.status.busy": "2022-08-08T12:03:20.212087Z",
     "iopub.status.idle": "2022-08-08T12:03:21.612940Z",
     "shell.execute_reply": "2022-08-08T12:03:21.612146Z",
     "shell.execute_reply.started": "2022-08-08T12:03:20.212576Z"
    }
   },
   "outputs": [],
   "source": [
    "# Imports\n",
    "\n",
    "# pandas\n",
    "import pandas as pd\n",
    "from pandas import Series,DataFrame\n",
    "\n",
    "# numpy, matplotlib, seaborn\n",
    "import numpy as np\n",
    "import matplotlib.pyplot as plt\n",
    "import seaborn as sns\n",
    "sns.set_style('whitegrid')\n",
    "%matplotlib inline\n",
    "\n",
    "# machine learning\n",
    "from sklearn.linear_model import LinearRegression\n",
    "from sklearn.linear_model import LogisticRegression\n",
    "from sklearn.svm import SVC, LinearSVC\n",
    "from sklearn.ensemble import RandomForestClassifier\n",
    "from sklearn.neighbors import KNeighborsClassifier\n",
    "from sklearn.naive_bayes import GaussianNB\n",
    "import xgboost as xgb"
   ]
  },
  {
   "cell_type": "code",
   "execution_count": null,
   "metadata": {
    "_uuid": "a068fded5b0eed50ae7708e58f529f0a1983d142",
    "execution": {
     "iopub.execute_input": "2022-08-08T12:03:28.196133Z",
     "iopub.status.busy": "2022-08-08T12:03:28.195825Z",
     "iopub.status.idle": "2022-08-08T12:03:29.603146Z",
     "shell.execute_reply": "2022-08-08T12:03:29.602237Z",
     "shell.execute_reply.started": "2022-08-08T12:03:28.196090Z"
    }
   },
   "outputs": [],
   "source": [
    "# get rossmann, store, & test csv files as a DataFrame\n",
    "rossmann_df  = pd.read_csv(\"dataset/train.csv\")\n",
    "store_df     = pd.read_csv(\"dataset/store.csv\")\n",
    "test_df      = pd.read_csv(\"dataset/test.csv\")\n",
    "\n",
    "# preview the data\n",
    "rossmann_df.head()"
   ]
  },
  {
   "cell_type": "code",
   "execution_count": 6,
   "metadata": {
    "_uuid": "e1dcc9e8679c2bdc4d3ffe5509504cdf72d658f8",
    "execution": {
     "iopub.execute_input": "2022-08-08T12:03:53.181992Z",
     "iopub.status.busy": "2022-08-08T12:03:53.181673Z",
     "iopub.status.idle": "2022-08-08T12:03:53.462628Z",
     "shell.execute_reply": "2022-08-08T12:03:53.461872Z",
     "shell.execute_reply.started": "2022-08-08T12:03:53.181939Z"
    }
   },
   "outputs": [],
   "source": [
    "rossmann_df.info()\n",
    "print(\"----------------------------\")\n",
    "store_df.info()\n",
    "print(\"----------------------------\")\n",
    "test_df.info()"
   ]
  },
  {
   "cell_type": "code",
   "execution_count": 7,
   "metadata": {
    "_uuid": "5d1d183e76d4dbbd342f90a37dd5e2e7f12bf36b",
    "execution": {
     "iopub.execute_input": "2022-08-08T12:04:04.542254Z",
     "iopub.status.busy": "2022-08-08T12:04:04.541949Z",
     "iopub.status.idle": "2022-08-08T12:04:05.220801Z",
     "shell.execute_reply": "2022-08-08T12:04:05.219714Z",
     "shell.execute_reply.started": "2022-08-08T12:04:04.542205Z"
    }
   },
   "outputs": [],
   "source": [
    "# Open\n",
    "fig, (axis1) = plt.subplots(1,1,figsize=(15,4))\n",
    "sns.countplot(x='Open',hue='DayOfWeek', data=rossmann_df,palette=\"husl\", ax=axis1)\n",
    "\n",
    "# fill NaN values in test_df with Open=1 if DayOfWeek != 7\n",
    "test_df[\"Open\"][test_df[\"Open\"] != test_df[\"Open\"]] = (test_df[\"DayOfWeek\"] != 7).astype(int)\n",
    "\n",
    "# Drop Open column\n",
    "# rossmann_df.drop(\"Open\", axis=1, inplace=True)\n",
    "# test_df.drop(\"Open\", axis=1, inplace=True)"
   ]
  },
  {
   "cell_type": "code",
   "execution_count": null,
   "metadata": {
    "_uuid": "07dbd0aaff5988cde53730fe255c59496392c130"
   },
   "outputs": [],
   "source": [
    "# Date\n",
    "\n",
    "# Create Year and Month columns\n",
    "rossmann_df['Year']  = rossmann_df['Date'].apply(lambda x: int(str(x)[:4]))\n",
    "rossmann_df['Month'] = rossmann_df['Date'].apply(lambda x: int(str(x)[5:7]))\n",
    "\n",
    "test_df['Year']  = test_df['Date'].apply(lambda x: int(str(x)[:4]))\n",
    "test_df['Month'] = test_df['Date'].apply(lambda x: int(str(x)[5:7]))\n",
    "\n",
    "# Assign Date column to Date(Year-Month) instead of (Year-Month-Day)\n",
    "# this column will be useful in analysis and visualization\n",
    "rossmann_df['Date'] = rossmann_df['Date'].apply(lambda x: (str(x)[:7]))\n",
    "test_df['Date']     = test_df['Date'].apply(lambda x: (str(x)[:7]))\n",
    "\n",
    "# group by date and get average sales, and precent change\n",
    "average_sales    = rossmann_df.groupby('Date')[\"Sales\"].mean()\n",
    "pct_change_sales = rossmann_df.groupby('Date')[\"Sales\"].sum().pct_change()\n",
    "\n",
    "fig, (axis1,axis2) = plt.subplots(2,1,sharex=True,figsize=(15,8))\n",
    "\n",
    "# plot average sales over time(year-month)\n",
    "ax1 = average_sales.plot(legend=True,ax=axis1,marker='o',title=\"Average Sales\")\n",
    "ax1.set_xticks(range(len(average_sales)))\n",
    "ax1.set_xticklabels(average_sales.index.tolist(), rotation=90)\n",
    "\n",
    "# plot precent change for sales over time(year-month)\n",
    "ax2 = pct_change_sales.plot(legend=True,ax=axis2,marker='o',rot=90,colormap=\"summer\",title=\"Sales Percent Change\")\n",
    "# ax2.set_xticks(range(len(pct_change_sales)))\n",
    "# ax2.set_xticklabels(pct_change_sales.index.tolist(), rotation=90)"
   ]
  },
  {
   "cell_type": "code",
   "execution_count": null,
   "metadata": {
    "_uuid": "4fe2887753c4e4897a7ee46adc5c9e5a59808349"
   },
   "outputs": [],
   "source": [
    "# .... contiune with Date\n",
    "\n",
    "# Plot average sales & customers for every year\n",
    "fig, (axis1,axis2) = plt.subplots(1,2,figsize=(15,4))\n",
    "\n",
    "sns.barplot(x='Year', y='Sales', data=rossmann_df, ax=axis1)\n",
    "sns.barplot(x='Year', y='Customers', data=rossmann_df, ax=axis2)\n",
    "\n",
    "# Drop Date column\n",
    "# rossmann_df.drop(['Date'], axis=1,inplace=True)\n",
    "# test_df.drop(['Date'], axis=1,inplace=True)"
   ]
  },
  {
   "cell_type": "code",
   "execution_count": null,
   "metadata": {
    "_uuid": "9d4cabad60fc720db395a44730a0ab5912638470"
   },
   "outputs": [],
   "source": [
    "# Customers\n",
    "\n",
    "fig, (axis1,axis2) = plt.subplots(2,1,figsize=(15,8))\n",
    "\n",
    "# Plot max, min values, & 2nd, 3rd quartile\n",
    "sns.boxplot([rossmann_df[\"Customers\"]], whis=np.inf, ax=axis1)\n",
    "\n",
    "# group by date and get average customers, and precent change\n",
    "average_customers      = rossmann_df.groupby('Date')[\"Customers\"].mean()\n",
    "# pct_change_customers = rossmann_df.groupby('Date')[\"Customers\"].sum().pct_change()\n",
    "\n",
    "# Plot average customers over the time\n",
    "# it should be correlated with the average sales over time\n",
    "ax = average_customers.plot(legend=True,marker='o', ax=axis2)\n",
    "ax.set_xticks(range(len(average_customers)))\n",
    "xlabels = ax.set_xticklabels(average_customers.index.tolist(), rotation=90)"
   ]
  },
  {
   "cell_type": "code",
   "execution_count": null,
   "metadata": {
    "_uuid": "514d83b60e23465a3a81072716633d60e91acb2b"
   },
   "outputs": [],
   "source": [
    "# DayOfWeek\n",
    "# In both cases where the store is closed and opened\n",
    "\n",
    "fig, (axis1,axis2) = plt.subplots(1,2,figsize=(15,4))\n",
    "\n",
    "sns.barplot(x='DayOfWeek', y='Sales', data=rossmann_df, order=[1,2,3,4,5,6,7], ax=axis1)\n",
    "sns.barplot(x='DayOfWeek', y='Customers', data=rossmann_df, order=[1,2,3,4,5,6,7], ax=axis2)"
   ]
  },
  {
   "cell_type": "code",
   "execution_count": null,
   "metadata": {
    "_uuid": "6a9939905f4bc435e567ae09ecab65bd61c52439"
   },
   "outputs": [],
   "source": [
    "# Promo\n",
    "\n",
    "# Plot average sales & customers with/without promo\n",
    "fig, (axis1,axis2) = plt.subplots(1,2,figsize=(15,4))\n",
    "\n",
    "sns.barplot(x='Promo', y='Sales', data=rossmann_df, ax=axis1)\n",
    "sns.barplot(x='Promo', y='Customers', data=rossmann_df, ax=axis2)"
   ]
  },
  {
   "cell_type": "code",
   "execution_count": null,
   "metadata": {
    "_uuid": "5ffc0ae26e7a3d4231f5a8427baba33363cb8926"
   },
   "outputs": [],
   "source": [
    "# StateHoliday\n",
    "\n",
    "# StateHoliday column has values 0 & \"0\", So, we need to merge values with 0 to \"0\"\n",
    "rossmann_df[\"StateHoliday\"].loc[rossmann_df[\"StateHoliday\"] == 0] = \"0\"\n",
    "# test_df[\"StateHoliday\"].loc[test_df[\"StateHoliday\"] == 0] = \"0\"\n",
    "\n",
    "# Plot\n",
    "sns.countplot(x='StateHoliday', data=rossmann_df)\n",
    "\n",
    "# Before\n",
    "fig, (axis1,axis2) = plt.subplots(1,2,figsize=(15,4))\n",
    "\n",
    "sns.barplot(x='StateHoliday', y='Sales', data=rossmann_df, ax=axis1)\n",
    "\n",
    "mask = (rossmann_df[\"StateHoliday\"] != \"0\") & (rossmann_df[\"Sales\"] > 0)\n",
    "sns.barplot(x='StateHoliday', y='Sales', data=rossmann_df[mask], ax=axis2)"
   ]
  },
  {
   "cell_type": "code",
   "execution_count": null,
   "metadata": {
    "_uuid": "0557bb230aa05e3989374b8960fc50b511a1641c"
   },
   "outputs": [],
   "source": [
    "# .... continue with StateHoliday\n",
    "\n",
    "# After\n",
    "rossmann_df[\"StateHoliday\"] = rossmann_df[\"StateHoliday\"].map({0: 0, \"0\": 0, \"a\": 1, \"b\": 1, \"c\": 1})\n",
    "test_df[\"StateHoliday\"]     = test_df[\"StateHoliday\"].map({0: 0, \"0\": 0, \"a\": 1, \"b\": 1, \"c\": 1})\n",
    "\n",
    "fig, (axis1,axis2) = plt.subplots(1,2,figsize=(15,4))\n",
    "\n",
    "sns.barplot(x='StateHoliday', y='Sales', data=rossmann_df, ax=axis1)\n",
    "sns.barplot(x='StateHoliday', y='Customers', data=rossmann_df, ax=axis2)"
   ]
  },
  {
   "cell_type": "code",
   "execution_count": null,
   "metadata": {
    "_uuid": "6346a722440c817bb74bfe634ed18b7f306fa56f"
   },
   "outputs": [],
   "source": [
    "# SchoolHoliday\n",
    "\n",
    "# Plot\n",
    "sns.countplot(x='SchoolHoliday', data=rossmann_df)\n",
    "\n",
    "fig, (axis1,axis2) = plt.subplots(1,2,figsize=(15,4))\n",
    "\n",
    "sns.barplot(x='SchoolHoliday', y='Sales', data=rossmann_df, ax=axis1)\n",
    "sns.barplot(x='SchoolHoliday', y='Customers', data=rossmann_df, ax=axis2)"
   ]
  },
  {
   "cell_type": "code",
   "execution_count": null,
   "metadata": {
    "_uuid": "93880572af7f40444bd0f223ac7c544c238680ed"
   },
   "outputs": [],
   "source": [
    "# Sales\n",
    "\n",
    "fig, (axis1,axis2) = plt.subplots(2,1,figsize=(15,8))\n",
    "\n",
    "# Plot max, min values, & 2nd, 3rd quartile\n",
    "sns.boxplot([rossmann_df[\"Customers\"]], whis=np.inf, ax=axis1)\n",
    "\n",
    "# Plot sales values \n",
    "# Notice that values with 0 is mostly because the store was closed\n",
    "rossmann_df[\"Sales\"].plot(kind='hist',bins=70,xlim=(0,15000),ax=axis2)"
   ]
  },
  {
   "cell_type": "code",
   "execution_count": null,
   "metadata": {
    "_uuid": "b2f0c4352c0ac54d71c1e774b1fcc8e19a034aa2"
   },
   "outputs": [],
   "source": [
    "# Using store_df\n",
    "\n",
    "# Merge store_df with average store sales & customers\n",
    "average_sales_customers = rossmann_df.groupby('Store')[[\"Sales\", \"Customers\"]].mean()\n",
    "sales_customers_df = DataFrame({'Store':average_sales_customers.index,\n",
    "                      'Sales':average_sales_customers[\"Sales\"], 'Customers': average_sales_customers[\"Customers\"]}, \n",
    "                      columns=['Store', 'Sales', 'Customers'])\n",
    "store_df = pd.merge(sales_customers_df, store_df, on='Store')\n",
    "\n",
    "store_df.head()"
   ]
  },
  {
   "cell_type": "code",
   "execution_count": null,
   "metadata": {
    "_uuid": "7c02bbd3a398301e5c25fdac2d85a9d9513b3846"
   },
   "outputs": [],
   "source": [
    "# StoreType \n",
    "\n",
    "# Plot StoreType, & StoreType Vs average sales and customers\n",
    "\n",
    "sns.countplot(x='StoreType', data=store_df, order=['a','b','c', 'd'])\n",
    "\n",
    "fig, (axis1,axis2) = plt.subplots(1,2,figsize=(15,4))\n",
    "\n",
    "sns.barplot(x='StoreType', y='Sales', data=store_df, order=['a','b','c', 'd'],ax=axis1)\n",
    "sns.barplot(x='StoreType', y='Customers', data=store_df, order=['a','b','c', 'd'], ax=axis2)"
   ]
  },
  {
   "cell_type": "code",
   "execution_count": null,
   "metadata": {
    "_uuid": "0ae52862e2d02eb68197cf476eb00c98dfd5547c"
   },
   "outputs": [],
   "source": [
    "# Assortment \n",
    "\n",
    "# Plot Assortment, & Assortment Vs average sales and customers\n",
    "\n",
    "sns.countplot(x='Assortment', data=store_df, order=['a','b','c'])\n",
    "\n",
    "fig, (axis1,axis2) = plt.subplots(1,2,figsize=(15,4))\n",
    "\n",
    "sns.barplot(x='Assortment', y='Sales', data=store_df, order=['a','b','c'], ax=axis1)\n",
    "sns.barplot(x='Assortment', y='Customers', data=store_df, order=['a','b','c'], ax=axis2)"
   ]
  },
  {
   "cell_type": "code",
   "execution_count": null,
   "metadata": {
    "_uuid": "d6127d9296443662b7b2b51a68a7b34bb87db7de"
   },
   "outputs": [],
   "source": [
    "# Promo2\n",
    "\n",
    "# Plot Promo2, & Promo2 Vs average sales and customers\n",
    "\n",
    "sns.countplot(x='Promo2', data=store_df)\n",
    "\n",
    "fig, (axis1,axis2) = plt.subplots(1,2,figsize=(15,4))\n",
    "\n",
    "sns.barplot(x='Promo2', y='Sales', data=store_df, ax=axis1)\n",
    "sns.barplot(x='Promo2', y='Customers', data=store_df, ax=axis2)"
   ]
  },
  {
   "cell_type": "code",
   "execution_count": null,
   "metadata": {
    "_uuid": "e7631a6c07fcc77b53e1645a54f22fbf0be81153"
   },
   "outputs": [],
   "source": [
    "# CompetitionDistance\n",
    "\n",
    "# fill NaN values\n",
    "store_df[\"CompetitionDistance\"].fillna(store_df[\"CompetitionDistance\"].median())\n",
    "\n",
    "# Plot CompetitionDistance Vs Sales\n",
    "store_df.plot(kind='scatter',x='CompetitionDistance',y='Sales',figsize=(15,4))\n",
    "store_df.plot(kind='kde',x='CompetitionDistance',y='Sales',figsize=(15,4))"
   ]
  },
  {
   "cell_type": "code",
   "execution_count": null,
   "metadata": {
    "_uuid": "beb3c316b47aad31060352f9b8683aa449280fa9"
   },
   "outputs": [],
   "source": [
    "# What happened to the average sales of a store over time when competition started?\n",
    "# Example: the average sales for store_id = 6 has dramatically decreased since the competition started\n",
    "\n",
    "store_id = 6\n",
    "store_data = rossmann_df[rossmann_df[\"Store\"] == store_id]\n",
    "\n",
    "average_store_sales = store_data.groupby('Date')[\"Sales\"].mean()\n",
    "\n",
    "# Get year, and month when Competition started\n",
    "y = store_df[\"CompetitionOpenSinceYear\"].loc[store_df[\"Store\"]  == store_id].values[0]\n",
    "m = store_df[\"CompetitionOpenSinceMonth\"].loc[store_df[\"Store\"] == store_id].values[0]\n",
    "\n",
    "# Plot \n",
    "ax = average_store_sales.plot(legend=True,figsize=(15,4),marker='o')\n",
    "ax.set_xticks(range(len(average_store_sales)))\n",
    "ax.set_xticklabels(average_store_sales.index.tolist(), rotation=90)\n",
    "\n",
    "# Since all data of store sales given in rossmann_df starts with year=2013 till 2015,\n",
    "# So, we need to check if year>=2013 and y & m aren't NaN values.\n",
    "if y >= 2013 and y == y and m == m:\n",
    "    plt.axvline(x=((y-2013) * 12) + (m - 1), linewidth=3, color='grey')"
   ]
  },
  {
   "cell_type": "code",
   "execution_count": null,
   "metadata": {
    "_uuid": "83ba54a4f9850f669b0a53022364a685a7cadb95"
   },
   "outputs": [],
   "source": [
    "# Risk Analysis\n",
    "# Analyze the risk of a store; Risk(std) Vs Expected(mean)\n",
    "\n",
    "# .... countiue using store_data\n",
    "store_average = store_data[\"Sales\"].mean()\n",
    "store_std     = store_data[\"Sales\"].std()\n",
    "\n",
    "# Plot\n",
    "plt.scatter(store_average, store_std,alpha = 0.5,s =np.pi*20)\n",
    "\n",
    "# Get min & max mean and std of store sales\n",
    "# Remember that store_df[\"Sales\"] has the average sales for a store\n",
    "std_sales = rossmann_df.groupby('Store')[\"Sales\"].std()\n",
    "\n",
    "min_average = store_df[\"Sales\"].min()\n",
    "max_average = store_df[\"Sales\"].max()\n",
    "min_std     = std_sales.min()\n",
    "max_std     = std_sales.max()\n",
    "\n",
    "# Set the x and y limits of the plot\n",
    "plt.ylim([min_std, max_std])\n",
    "plt.xlim([min_average, max_average])\n",
    "\n",
    "# Set the plot axis titles\n",
    "plt.xlabel('Expected Sales')\n",
    "plt.ylabel('Risk')\n",
    "\n",
    "# Set label\n",
    "label, x, y = \"Store {}\".format(store_id), store_average, store_std\n",
    "plt.annotate(\n",
    "        label, \n",
    "        xy = (x, y), xytext = (50, 50),\n",
    "        textcoords = 'offset points', ha = 'right', va = 'bottom',\n",
    "        arrowprops = dict(arrowstyle = '-', connectionstyle = 'arc3,rad=-0.3'))"
   ]
  },
  {
   "cell_type": "code",
   "execution_count": null,
   "metadata": {
    "_uuid": "31f375c57fd1f93077159ce1195a2dd4b2b984fa"
   },
   "outputs": [],
   "source": [
    "# Correlation\n",
    "# Visualize the Correlation between stores\n",
    "\n",
    "store_piv       = pd.pivot_table(rossmann_df,values='Sales', index='Date', columns=['Store'],aggfunc='sum')\n",
    "store_pct_chage = store_piv.pct_change().dropna()\n",
    "store_piv.head()"
   ]
  },
  {
   "cell_type": "code",
   "execution_count": null,
   "metadata": {
    "_uuid": "fc092a2eaf92b66094c64b4684c10ee71a3c6eac"
   },
   "outputs": [],
   "source": [
    "# .... continue Correlation\n",
    "\n",
    "# Plot correlation between range of stores\n",
    "start_store = 1\n",
    "end_store   = 5\n",
    "\n",
    "fig, (axis1) = plt.subplots(1,1,figsize=(15,5))\n",
    "\n",
    "# using summation of sales values for each store \n",
    "sns.heatmap(store_piv[list(range(start_store, end_store+1))].corr(),annot=True,linewidths=2)\n",
    "\n",
    "# using percent change for each store\n",
    "# sns.heatmap(store_pct_chage[list(range(start_store, end_store+1))].corr(),annot=True,linewidths=2)"
   ]
  },
  {
   "cell_type": "code",
   "execution_count": null,
   "metadata": {
    "_uuid": "b51f5fb6a212318b688d0c0e8cead5c7d775f65e"
   },
   "outputs": [],
   "source": [
    "# Notice that test_df has only year=2015, and months 8 & 9\n",
    "\n",
    "# drop Year and Month\n",
    "rossmann_df.drop([\"Year\", \"Month\"], axis=1, inplace=True)\n",
    "test_df.drop([\"Year\", \"Month\"], axis=1, inplace=True)\n",
    "\n",
    "# Create dummy varibales for DayOfWeek\n",
    "day_dummies_rossmann  = pd.get_dummies(rossmann_df['DayOfWeek'], prefix='Day')\n",
    "day_dummies_rossmann.drop(['Day_7'], axis=1, inplace=True)\n",
    "\n",
    "day_dummies_test  = pd.get_dummies(test_df['DayOfWeek'],prefix='Day')\n",
    "day_dummies_test.drop(['Day_7'], axis=1, inplace=True)\n",
    "\n",
    "rossmann_df = rossmann_df.join(day_dummies_rossmann)\n",
    "test_df     = test_df.join(day_dummies_test)\n",
    "\n",
    "rossmann_df.drop(['DayOfWeek'], axis=1,inplace=True)\n",
    "test_df.drop(['DayOfWeek'], axis=1,inplace=True)"
   ]
  },
  {
   "cell_type": "code",
   "execution_count": null,
   "metadata": {
    "_uuid": "e05540d727bbeeef54fc8bcde0113a8e24af3f4b"
   },
   "outputs": [],
   "source": [
    "# remove all rows(store,date) that were closed\n",
    "rossmann_df = rossmann_df[rossmann_df[\"Open\"] != 0]\n",
    "\n",
    "# drop unnecessary columns, these columns won't be useful in prediction\n",
    "rossmann_df.drop([\"Open\",\"Customers\", \"Date\"], axis=1, inplace=True)"
   ]
  },
  {
   "cell_type": "code",
   "execution_count": null,
   "metadata": {
    "_uuid": "f4fdbb40bfb910119f92d84fb623c4a9b656f835"
   },
   "outputs": [],
   "source": [
    "# save ids of closed stores, because we will assign their sales value to 0 later(see below)\n",
    "closed_store_ids = test_df[\"Id\"][test_df[\"Open\"] == 0].values\n",
    "\n",
    "# remove all rows(store,date) that were closed\n",
    "test_df = test_df[test_df[\"Open\"] != 0]\n",
    "\n",
    "# drop unnecessary columns, these columns won't be useful in prediction\n",
    "test_df.drop(['Open', 'Date'], axis=1,inplace=True)"
   ]
  },
  {
   "cell_type": "code",
   "execution_count": null,
   "metadata": {
    "_uuid": "ca56aebe550620cea572642f08779698983d5e70"
   },
   "outputs": [],
   "source": [
    "# Loop through each store, \n",
    "# train the model using the data of current store, and predict it's sales values.\n",
    "\n",
    "rossmann_dic = dict(list(rossmann_df.groupby('Store')))\n",
    "test_dic     = dict(list(test_df.groupby('Store')))\n",
    "submission   = Series()\n",
    "scores       = []\n",
    "\n",
    "for i in test_dic:\n",
    "    \n",
    "    # current store\n",
    "    store = rossmann_dic[i]\n",
    "    \n",
    "    # define training and testing sets\n",
    "    X_train = store.drop([\"Sales\",\"Store\"],axis=1)\n",
    "    Y_train = store[\"Sales\"]\n",
    "    X_test  = test_dic[i].copy()\n",
    "    \n",
    "    store_ids = X_test[\"Id\"]\n",
    "    X_test.drop([\"Id\",\"Store\"], axis=1,inplace=True)\n",
    "    \n",
    "    # Linear Regression\n",
    "    lreg = LinearRegression()\n",
    "    lreg.fit(X_train, Y_train)\n",
    "    Y_pred = lreg.predict(X_test)\n",
    "    scores.append(lreg.score(X_train, Y_train))\n",
    "\n",
    "    # Xgboost\n",
    "    # params = {\"objective\": \"reg:linear\",  \"max_depth\": 10}\n",
    "    # T_train_xgb = xgb.DMatrix(X_train, Y_train)\n",
    "    # X_test_xgb  = xgb.DMatrix(X_test)\n",
    "    # gbm = xgb.train(params, T_train_xgb, 100)\n",
    "    # Y_pred = gbm.predict(X_test_xgb)\n",
    "    \n",
    "    # append predicted values of current store to submission\n",
    "    submission = submission.append(Series(Y_pred, index=store_ids))\n",
    "\n",
    "# append rows(store,date) that were closed, and assign their sales value to 0\n",
    "submission = submission.append(Series(0, index=closed_store_ids))\n",
    "\n",
    "# save to csv file\n",
    "submission = pd.DataFrame({ \"Id\": submission.index, \"Sales\": submission.values})\n",
    "submission.to_csv('rossmann.csv', index=False)"
   ]
  }
 ],
 "metadata": {
  "kernelspec": {
   "display_name": "Python 3 (ipykernel)",
   "language": "python",
   "name": "python3"
  },
  "language_info": {
   "codemirror_mode": {
    "name": "ipython",
    "version": 3
   },
   "file_extension": ".py",
   "mimetype": "text/x-python",
   "name": "python",
   "nbconvert_exporter": "python",
   "pygments_lexer": "ipython3",
   "version": "3.9.7"
  }
 },
 "nbformat": 4,
 "nbformat_minor": 4
}
